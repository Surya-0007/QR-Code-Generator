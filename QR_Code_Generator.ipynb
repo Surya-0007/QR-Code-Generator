{
  "nbformat": 4,
  "nbformat_minor": 0,
  "metadata": {
    "colab": {
      "provenance": [],
      "authorship_tag": "ABX9TyNiyqiBRI7d1DkNdWnTQXmB",
      "include_colab_link": true
    },
    "kernelspec": {
      "name": "python3",
      "display_name": "Python 3"
    },
    "language_info": {
      "name": "python"
    }
  },
  "cells": [
    {
      "cell_type": "markdown",
      "metadata": {
        "id": "view-in-github",
        "colab_type": "text"
      },
      "source": [
        "<a href=\"https://colab.research.google.com/github/Surya-0007/QR-Code-Generator/blob/main/QR_Code_Generator.ipynb\" target=\"_parent\"><img src=\"https://colab.research.google.com/assets/colab-badge.svg\" alt=\"Open In Colab\"/></a>"
      ]
    },
    {
      "cell_type": "code",
      "source": [
        "!pip install qrcode\n",
        "!pip install image"
      ],
      "metadata": {
        "colab": {
          "base_uri": "https://localhost:8080/"
        },
        "id": "f4JwY7C5T2lo",
        "outputId": "db1a2c38-0d62-40ee-db85-7551c13350e3"
      },
      "execution_count": 50,
      "outputs": [
        {
          "output_type": "stream",
          "name": "stdout",
          "text": [
            "Requirement already satisfied: qrcode in /usr/local/lib/python3.10/dist-packages (7.4.2)\n",
            "Requirement already satisfied: typing-extensions in /usr/local/lib/python3.10/dist-packages (from qrcode) (4.7.1)\n",
            "Requirement already satisfied: pypng in /usr/local/lib/python3.10/dist-packages (from qrcode) (0.20220715.0)\n",
            "Requirement already satisfied: image in /usr/local/lib/python3.10/dist-packages (1.5.33)\n",
            "Requirement already satisfied: pillow in /usr/local/lib/python3.10/dist-packages (from image) (9.4.0)\n",
            "Requirement already satisfied: django in /usr/local/lib/python3.10/dist-packages (from image) (4.2.4)\n",
            "Requirement already satisfied: six in /usr/local/lib/python3.10/dist-packages (from image) (1.16.0)\n",
            "Requirement already satisfied: asgiref<4,>=3.6.0 in /usr/local/lib/python3.10/dist-packages (from django->image) (3.7.2)\n",
            "Requirement already satisfied: sqlparse>=0.3.1 in /usr/local/lib/python3.10/dist-packages (from django->image) (0.4.4)\n",
            "Requirement already satisfied: typing-extensions>=4 in /usr/local/lib/python3.10/dist-packages (from asgiref<4,>=3.6.0->django->image) (4.7.1)\n"
          ]
        }
      ]
    },
    {
      "cell_type": "code",
      "execution_count": 51,
      "metadata": {
        "id": "j3OM3Z_iSF2l"
      },
      "outputs": [],
      "source": [
        "import qrcode\n",
        "import image\n",
        "qr = qrcode.QRCode(\n",
        "    version = 7, # More the version, more data capacity\n",
        "    box_size = 10, # Size of the code\n",
        "    border = 5 # Side margins\n",
        "    )\n",
        "data = \"https://www.linkedin.com/in/surya-partap-mittal-1363bb22b/\"\n",
        "#data = input(\"Enter The address\")\n",
        "qr.add_data(data)\n",
        "qr.make(fit = True) # by setting fit=True, the library will automatically determine\n",
        "                    # the smallest QR code version that can accommodate the provided data,\n",
        "                    # without giving an Error\n",
        "img = qr.make_image(fill_color = \"white\", back_color = \"black\")\n",
        "img.save(\"QRCODE.png\")"
      ]
    }
  ]
}